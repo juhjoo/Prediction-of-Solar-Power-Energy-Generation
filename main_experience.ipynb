{
 "cells": [
  {
   "cell_type": "code",
   "execution_count": 2,
   "id": "a1ad8f0b",
   "metadata": {},
   "outputs": [],
   "source": [
    "from src.experience import run_model"
   ]
  },
  {
   "cell_type": "code",
   "execution_count": 4,
   "id": "e092aea9",
   "metadata": {},
   "outputs": [
    {
     "data": {
      "text/plain": [
       "'2.6.0'"
      ]
     },
     "execution_count": 4,
     "metadata": {},
     "output_type": "execute_result"
    }
   ],
   "source": [
    "import tensorflow as tf\n",
    "tf.__version__"
   ]
  },
  {
   "cell_type": "code",
   "execution_count": 6,
   "id": "e9ae1ffa",
   "metadata": {},
   "outputs": [
    {
     "data": {
      "text/plain": [
       "'3.7.11'"
      ]
     },
     "execution_count": 6,
     "metadata": {},
     "output_type": "execute_result"
    }
   ],
   "source": [
    "import platform\n",
    "platform.python_version()"
   ]
  },
  {
   "cell_type": "code",
   "execution_count": 6,
   "id": "e39f57cc",
   "metadata": {},
   "outputs": [],
   "source": [
    "#data files\n",
    "DATA_FILE_NAME = 'data/time_series_60min_singleindex.csv'\n",
    "WEATHER_FILE_NAME = 'data/weather_data.csv'\n",
    "\n",
    "#result files\n",
    "DCLSTM_RESULT_FILE_NAME = 'result/result_dclstm.csv'\n",
    "DCCNN_RESULT_FILE_NAME = 'result/result_dccnn.csv'\n",
    "LSTM_RESULT_FILE_NAME = 'result/result_lstm.csv'\n",
    "\n",
    "FUTURE_TARGET = 24\n",
    "PAST_HISTORY = [168]\n",
    "BATCH_SIZE = [256]\n",
    "EPOCHS = [50]\n",
    "BUFFER_SIZE = 10000\n",
    "METRICS = ['mse','rmse','nrmse','mae','wape']\n",
    "\n",
    "#parameters for model\n",
    "dclstm_params = {\n",
    "    'n_filters': [128],\n",
    "    'filter_length': [2, 3, 4],\n",
    "    'n_blocks': [3, 4],\n",
    "    'dilation_rate': [[1, 2, 4, 8, 16], [1, 2, 4, 8, 16, 32], [1, 2, 4, 8, 16, 32, 64]],\n",
    "    'units': [32, 64, 128],\n",
    "    'num_layers': [1],\n",
    "    'dropout': [0]}\n",
    "  \n",
    "dccnn_params = {\n",
    "  'n_filters': [128],\n",
    "  'filter_length': [2, 3, 4],\n",
    "  'n_blocks': [3, 4],\n",
    "  'dilation_rate': [[1, 2, 4, 8, 16], [1, 2, 4, 8, 16, 32], [1, 2, 4, 8, 16, 32, 64]]}\n",
    "\n",
    "lstm_params = {\n",
    "  'num_stack_layers': [1, 2, 3],\n",
    "  'units': [32, 64, 128],\n",
    "  'dropout': [0]\n",
    "  }"
   ]
  },
  {
   "cell_type": "code",
   "execution_count": null,
   "id": "973efe28",
   "metadata": {},
   "outputs": [],
   "source": [
    "#Run DCCNN+LSTM model\n",
    "run_model(data_name=DATA_FILE_NAME, \n",
    "          weather_name=WEATHER_FILE_NAME, \n",
    "          result_file=DCLSTM_RESULT_FILE_NAME, \n",
    "          future_target_in=FUTURE_TARGET, \n",
    "          past_history_in=PAST_HISTORY, \n",
    "          batch_size_in=BATCH_SIZE, \n",
    "          epochs_in=EPOCHS, \n",
    "          params=dclstm_params, \n",
    "          model='dclstm', \n",
    "          metric_in=METRICS, \n",
    "          buffer_size=10000, \n",
    "          validation_size=0.2, \n",
    "          seed=1)"
   ]
  },
  {
   "cell_type": "code",
   "execution_count": null,
   "id": "9c8e47a4",
   "metadata": {},
   "outputs": [],
   "source": [
    "#Run DCCNN model\n",
    "run_model(data_name=DATA_FILE_NAME, \n",
    "          weather_name=WEATHER_FILE_NAME, \n",
    "          result_file=DCCNN_RESULT_FILE_NAME, \n",
    "          future_target_in=FUTURE_TARGET, \n",
    "          past_history_in=PAST_HISTORY, \n",
    "          batch_size_in=BATCH_SIZE, \n",
    "          epochs_in=EPOCHS, \n",
    "          params=dccnn_params, \n",
    "          model='dccnn', \n",
    "          metric_in=METRICS, \n",
    "          buffer_size=10000, \n",
    "          validation_size=0.2, \n",
    "          seed=1)"
   ]
  },
  {
   "cell_type": "code",
   "execution_count": null,
   "id": "34319667",
   "metadata": {},
   "outputs": [],
   "source": [
    "#Run LSTM model\n",
    "run_model(data_name=DATA_FILE_NAME, \n",
    "          weather_name=WEATHER_FILE_NAME, \n",
    "          result_file=LSTM_RESULT_FILE_NAME, \n",
    "          future_target_in=FUTURE_TARGET, \n",
    "          past_history_in=PAST_HISTORY, \n",
    "          batch_size_in=BATCH_SIZE, \n",
    "          epochs_in=EPOCHS, \n",
    "          params=lstm_params, \n",
    "          model='lstm', \n",
    "          metric_in=METRICS, \n",
    "          buffer_size=10000, \n",
    "          validation_size=0.2, \n",
    "          seed=1)"
   ]
  },
  {
   "cell_type": "code",
   "execution_count": null,
   "id": "c162a076",
   "metadata": {},
   "outputs": [],
   "source": []
  }
 ],
 "metadata": {
  "kernelspec": {
   "display_name": "Python 3 (ipykernel)",
   "language": "python",
   "name": "python3"
  },
  "language_info": {
   "codemirror_mode": {
    "name": "ipython",
    "version": 3
   },
   "file_extension": ".py",
   "mimetype": "text/x-python",
   "name": "python",
   "nbconvert_exporter": "python",
   "pygments_lexer": "ipython3",
   "version": "3.7.11"
  }
 },
 "nbformat": 4,
 "nbformat_minor": 5
}
